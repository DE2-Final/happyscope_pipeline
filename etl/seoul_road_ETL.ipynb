{
  "nbformat": 4,
  "nbformat_minor": 0,
  "metadata": {
    "colab": {
      "provenance": []
    },
    "kernelspec": {
      "name": "python3",
      "display_name": "Python 3"
    },
    "language_info": {
      "name": "python"
    }
  },
  "cells": [
    {
      "cell_type": "markdown",
      "source": [
        "# 0. 필요 패키지, 변수 정의"
      ],
      "metadata": {
        "id": "1MSIJQSphOOk"
      }
    },
    {
      "cell_type": "code",
      "source": [
        "import requests\n",
        "import json\n",
        "import datetime"
      ],
      "metadata": {
        "id": "E1yY8Zk5hPAs"
      },
      "execution_count": 5,
      "outputs": []
    },
    {
      "cell_type": "markdown",
      "source": [
        "# 1. extract 함수 정의"
      ],
      "metadata": {
        "id": "hPHKJXO0hQIl"
      }
    },
    {
      "cell_type": "code",
      "source": [
        "def extract(api_key):\n",
        "    base_url = \"http://t-data.seoul.go.kr/apig/apiman-gateway/tapi/TopisIccStTimesRoadDivTrfLivingStats/1.0\"\n",
        "    startRow = \"1\"\n",
        "    stndDt = \"20240214\" # 데이터 자체는 1시간 단위지만, API 데이터 업데이트 주기가 하루에 1번 입니다. 즉, 하루 치 데이터가 모여서 한 번에 들어옵니다.\n",
        "    rowCnt = \"120\" # 도심생활권, 동남생활권, 동북생활권, 서남생활권, 서북생활권 5개 권역이 1시간마다 1번 기록됩니다. 5개 권역 x 24시간 = 120개\n",
        "\n",
        "    url =   base_url + \\\n",
        "            \"?startRow=\" + startRow + \\\n",
        "            \"&apikey=\" + api_key + \\\n",
        "            \"&stndDt=\" + stndDt + \\\n",
        "            \"&rowCnt=\" + rowCnt\n",
        "\n",
        "    response = requests.get(url, verify=False)\n",
        "    serialized_records = json.dumps(response.json()) # Serialize\n",
        "\n",
        "    return serialized_records"
      ],
      "metadata": {
        "id": "Kl3a1ZxNhSse"
      },
      "execution_count": 9,
      "outputs": []
    },
    {
      "cell_type": "markdown",
      "source": [
        "# 2. transform 함수 정의"
      ],
      "metadata": {
        "id": "SMExGzJihTDK"
      }
    },
    {
      "cell_type": "code",
      "source": [
        "def transform(serialized_records):\n",
        "    deserialized_data = json.loads(serialized_records) # Deserialize\n",
        "\n",
        "    pass # TO DO"
      ],
      "metadata": {
        "id": "IRGJRHidhUXp"
      },
      "execution_count": 10,
      "outputs": []
    },
    {
      "cell_type": "markdown",
      "source": [
        "# 3. extract, transform 함수 실행"
      ],
      "metadata": {
        "id": "leO-waxohUwi"
      }
    },
    {
      "cell_type": "code",
      "source": [
        "api_key = \"3434c304-aaff-4963-a4cd-86821380b26c\"\n",
        "\n",
        "serialized_records = extract(api_key)\n",
        "transform(serialized_records)"
      ],
      "metadata": {
        "colab": {
          "base_uri": "https://localhost:8080/"
        },
        "id": "uFHXnoEAhXPa",
        "outputId": "cc9a5000-fb29-4189-8f86-8ad69f7144ce"
      },
      "execution_count": 11,
      "outputs": [
        {
          "output_type": "stream",
          "name": "stderr",
          "text": [
            "/usr/local/lib/python3.10/dist-packages/urllib3/connectionpool.py:1100: InsecureRequestWarning: Unverified HTTPS request is being made to host 't-data.seoul.go.kr'. Adding certificate verification is strongly advised. See: https://urllib3.readthedocs.io/en/latest/advanced-usage.html#tls-warnings\n",
            "  warnings.warn(\n"
          ]
        },
        {
          "output_type": "stream",
          "name": "stdout",
          "text": [
            "[]\n"
          ]
        }
      ]
    }
  ]
}